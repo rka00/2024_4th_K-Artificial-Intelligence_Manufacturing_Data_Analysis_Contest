{
 "cells": [
  {
   "cell_type": "code",
   "execution_count": null,
   "metadata": {},
   "outputs": [],
   "source": [
    "import os\n",
    "import numpy as np\n",
    "import pandas as pd\n",
    "import argparse"
   ]
  },
  {
   "cell_type": "code",
   "execution_count": null,
   "metadata": {},
   "outputs": [],
   "source": [
    "from utils import *\n",
    "from models.decisiontree import *\n",
    "from models.randomforest import *\n",
    "from models.lightgbm import *\n",
    "from models.xgboost import *"
   ]
  },
  {
   "cell_type": "code",
   "execution_count": null,
   "metadata": {},
   "outputs": [],
   "source": [
    "def main(model_name, mode, trials=50):\n",
    "    seed_everything(819)\n",
    "\n",
    "    # read data\n",
    "    full_path  = os.getcwd()\n",
    "    data_path  = os.path.join(full_path, 'data', '경진대회용 주조 공정최적화 데이터셋.csv')\n",
    "    data = pd.read_csv(data_path, encoding='cp949') \n",
    "\n",
    "    # preprocess\n",
    "    data = preprocess(data)\n",
    "    data = make_time_series(data, time_threshold=3000) # 50 minutes\n",
    "    data = preprocess_time_series(data)\n",
    "    data = make_dataframe(data, time_interval = 60) # 60 minutes\n",
    "\n",
    "    # train valid test split\n",
    "    X_train, X_valid, X_test, y_train, y_valid, y_test = split(data, valid_size=0.2, test_size=0.2, random_state=42)\n",
    "\n",
    "    # remove outlier\n",
    "    X_train, y_train = remove_outlier(X_train, y_train)\n",
    "\n",
    "    # imputation\n",
    "    X_train, X_valid, X_test = imputation(X_train, X_valid, X_test)\n",
    "\n",
    "    data = {'X_train': X_train, 'X_valid': X_valid, 'X_test': X_test, 'y_train': y_train, 'y_valid': y_valid, 'y_test': y_test}\n",
    "\n",
    "    # read config\n",
    "    hyperparams = load_config(model_name)\n",
    "\n",
    "    if mode == \"train\":\n",
    "        print('==========training mode==========')\n",
    "        \n",
    "        if model_name == \"decisiontree\":\n",
    "            model, val_score = optimize_decisiontree(data, hyperparams, trials)\n",
    "        elif model_name == \"randomforest\":\n",
    "            model, val_score = optimize_randomforest(data, hyperparams, trials)\n",
    "        elif model_name == \"lightgbm\":\n",
    "            model, val_score = optimize_lightgbm(data, hyperparams, trials)\n",
    "        elif model_name == \"xgboost\":\n",
    "            model, val_score = optimize_xgboost(data, hyperparams, trials)\n",
    "        else:\n",
    "            raise ValueError(f\"Unsupported model: {model_name}\")\n",
    "        \n",
    "        # Validation 결과 출력\n",
    "        print(\"======Validation Scores======\")\n",
    "        for key, value in val_score.items():    \n",
    "            print(f\"{key} \\n {value}\")\n",
    "        \n",
    "        # 모델 저장\n",
    "        save_model(model, model_name)\n",
    "\n",
    "    elif mode == \"infer\":\n",
    "        print('==========inference mode==========')\n",
    "        \n",
    "        if model_name == \"decisiontree\":\n",
    "            model = load_model(model_name)\n",
    "            test_score = inference_decisiontree(model, data)\n",
    "        elif model_name == \"randomforest\":\n",
    "            model = load_model(model_name)\n",
    "            test_score = inference_randomforest(model, data)\n",
    "        elif model_name == \"lightgbm\":\n",
    "            model = load_model(model_name)\n",
    "            test_score = inference_lightgbm(model, data)\n",
    "        elif model_name == \"xgboost\":\n",
    "            model = load_model(model_name)\n",
    "            test_score = inference_xgboost(model, data)\n",
    "        else:\n",
    "            raise ValueError(f\"Unsupported model: {model_name}\")\n",
    "        \n",
    "        # Test 결과 출력\n",
    "        print(\"======Test Scores======\")\n",
    "        for key, value in test_score.items():    \n",
    "            print(f\"{key} \\n {value}\")\n",
    "\n",
    "    else: \n",
    "        raise ValueError(f\"Unsupported mode: {mode}\")"
   ]
  },
  {
   "cell_type": "code",
   "execution_count": null,
   "metadata": {},
   "outputs": [],
   "source": [
    "main(model_name=\"xgboost\", mode=\"trajn\", trials=50)"
   ]
  }
 ],
 "metadata": {
  "kernelspec": {
   "display_name": "research",
   "language": "python",
   "name": "python3"
  },
  "language_info": {
   "name": "python",
   "version": "3.9.19"
  }
 },
 "nbformat": 4,
 "nbformat_minor": 2
}
